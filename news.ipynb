{
 "cells": [
  {
   "cell_type": "code",
   "execution_count": 1,
   "metadata": {},
   "outputs": [],
   "source": [
    "import pandas as pd"
   ]
  },
  {
   "cell_type": "code",
   "execution_count": 2,
   "metadata": {},
   "outputs": [],
   "source": [
    "from newsapi import NewsApiClient"
   ]
  },
  {
   "cell_type": "code",
   "execution_count": 3,
   "metadata": {},
   "outputs": [],
   "source": [
    "from dotenv import load_dotenv"
   ]
  },
  {
   "cell_type": "code",
   "execution_count": 4,
   "metadata": {},
   "outputs": [
    {
     "output_type": "execute_result",
     "data": {
      "text/plain": "True"
     },
     "metadata": {},
     "execution_count": 4
    }
   ],
   "source": [
    "load_dotenv()"
   ]
  },
  {
   "cell_type": "code",
   "execution_count": 5,
   "metadata": {},
   "outputs": [],
   "source": [
    "import os\n",
    "api_key = os.getenv(\"NEWSAPI_KEY\")"
   ]
  },
  {
   "cell_type": "code",
   "execution_count": 9,
   "metadata": {},
   "outputs": [],
   "source": [
    "newsapi = NewsApiClient(api_key=api_key)"
   ]
  },
  {
   "cell_type": "code",
   "execution_count": 18,
   "metadata": {},
   "outputs": [],
   "source": [
    "arts = newsapi.get_everything(\n",
    "    q=\"ENPH\",\n",
    "    # from_param=\"2020-05-20\",\n",
    "    # to=\"2020-06-09\",\n",
    ")"
   ]
  },
  {
   "cell_type": "code",
   "execution_count": 19,
   "metadata": {},
   "outputs": [],
   "source": [
    "import json"
   ]
  },
  {
   "cell_type": "code",
   "execution_count": null,
   "metadata": {},
   "outputs": [],
   "source": [
    "[]"
   ]
  },
  {
   "cell_type": "code",
   "execution_count": 23,
   "metadata": {},
   "outputs": [
    {
     "output_type": "execute_result",
     "data": {
      "text/plain": "                                 author  \\\n0                                  None   \n1                                  None   \n2                        Simply Wall St   \n3  newsfeedback@fool.com (Scott Levine)   \n4                 Zacks Equity Research   \n\n                                             content  \\\n0                                               None   \n1                                               None   \n2  Enphase Energy, Inc. (NASDAQ:ENPH), which is i...   \n3  Enphase Energy(NASDAQ:ENPH) shed new light on ...   \n4  Canadian Solar Inc. CSIQ reported first-quarte...   \n\n                                         description           publishedAt  \\\n0                                               None  2020-05-30T15:22:41Z   \n1  The latest 13F reporting period has come and g...  2020-06-02T12:44:36Z   \n2  Enphase Energy, Inc. (NASDAQ:ENPH), which is i...  2020-05-26T12:01:55Z   \n3  These charts provide a deeper insight into thi...  2020-06-03T11:44:00Z   \n4  Canadian Solar's (CSIQ) Q1 revenues of $825.6 ...  2020-05-29T11:20:11Z   \n\n                                        source  \\\n0        {'id': None, 'name': 'Seeking Alpha'}   \n1  {'id': None, 'name': 'Yahoo Entertainment'}   \n2  {'id': None, 'name': 'Yahoo Entertainment'}   \n3          {'id': None, 'name': 'Motley Fool'}   \n4  {'id': None, 'name': 'Yahoo Entertainment'}   \n\n                                               title  \\\n0  Enphase Energy (ENPH) Investor Presentation - ...   \n1  Hedge Funds Cashing Out Of Enphase Energy Inc ...   \n2  What Is Enphase Energy, Inc.'s (NASDAQ:ENPH) S...   \n3                         Enphase Energy in 3 Charts   \n4  Canadian Solar (CSIQ) Q1 Earnings Top, Revenue...   \n\n                                                 url  \\\n0  https://seekingalpha.com/article/4351070-enpha...   \n1  https://news.yahoo.com/hedge-funds-cashing-enp...   \n2  https://finance.yahoo.com/news/enphase-energy-...   \n3  https://www.fool.com/investing/2020/06/03/enph...   \n4  https://finance.yahoo.com/news/canadian-solar-...   \n\n                                          urlToImage  \n0                                               None  \n1                                               None  \n2  https://s.yimg.com/ny/api/res/1.2/oBd4sm53w9gY...  \n3  https://g.foolcdn.com/editorial/images/575810/...  \n4  https://s.yimg.com/ny/api/res/1.2/JvcWMjBdu3Dv...  ",
      "text/html": "<div>\n<style scoped>\n    .dataframe tbody tr th:only-of-type {\n        vertical-align: middle;\n    }\n\n    .dataframe tbody tr th {\n        vertical-align: top;\n    }\n\n    .dataframe thead th {\n        text-align: right;\n    }\n</style>\n<table border=\"1\" class=\"dataframe\">\n  <thead>\n    <tr style=\"text-align: right;\">\n      <th></th>\n      <th>author</th>\n      <th>content</th>\n      <th>description</th>\n      <th>publishedAt</th>\n      <th>source</th>\n      <th>title</th>\n      <th>url</th>\n      <th>urlToImage</th>\n    </tr>\n  </thead>\n  <tbody>\n    <tr>\n      <th>0</th>\n      <td>None</td>\n      <td>None</td>\n      <td>None</td>\n      <td>2020-05-30T15:22:41Z</td>\n      <td>{'id': None, 'name': 'Seeking Alpha'}</td>\n      <td>Enphase Energy (ENPH) Investor Presentation - ...</td>\n      <td>https://seekingalpha.com/article/4351070-enpha...</td>\n      <td>None</td>\n    </tr>\n    <tr>\n      <th>1</th>\n      <td>None</td>\n      <td>None</td>\n      <td>The latest 13F reporting period has come and g...</td>\n      <td>2020-06-02T12:44:36Z</td>\n      <td>{'id': None, 'name': 'Yahoo Entertainment'}</td>\n      <td>Hedge Funds Cashing Out Of Enphase Energy Inc ...</td>\n      <td>https://news.yahoo.com/hedge-funds-cashing-enp...</td>\n      <td>None</td>\n    </tr>\n    <tr>\n      <th>2</th>\n      <td>Simply Wall St</td>\n      <td>Enphase Energy, Inc. (NASDAQ:ENPH), which is i...</td>\n      <td>Enphase Energy, Inc. (NASDAQ:ENPH), which is i...</td>\n      <td>2020-05-26T12:01:55Z</td>\n      <td>{'id': None, 'name': 'Yahoo Entertainment'}</td>\n      <td>What Is Enphase Energy, Inc.'s (NASDAQ:ENPH) S...</td>\n      <td>https://finance.yahoo.com/news/enphase-energy-...</td>\n      <td>https://s.yimg.com/ny/api/res/1.2/oBd4sm53w9gY...</td>\n    </tr>\n    <tr>\n      <th>3</th>\n      <td>newsfeedback@fool.com (Scott Levine)</td>\n      <td>Enphase Energy(NASDAQ:ENPH) shed new light on ...</td>\n      <td>These charts provide a deeper insight into thi...</td>\n      <td>2020-06-03T11:44:00Z</td>\n      <td>{'id': None, 'name': 'Motley Fool'}</td>\n      <td>Enphase Energy in 3 Charts</td>\n      <td>https://www.fool.com/investing/2020/06/03/enph...</td>\n      <td>https://g.foolcdn.com/editorial/images/575810/...</td>\n    </tr>\n    <tr>\n      <th>4</th>\n      <td>Zacks Equity Research</td>\n      <td>Canadian Solar Inc. CSIQ reported first-quarte...</td>\n      <td>Canadian Solar's (CSIQ) Q1 revenues of $825.6 ...</td>\n      <td>2020-05-29T11:20:11Z</td>\n      <td>{'id': None, 'name': 'Yahoo Entertainment'}</td>\n      <td>Canadian Solar (CSIQ) Q1 Earnings Top, Revenue...</td>\n      <td>https://finance.yahoo.com/news/canadian-solar-...</td>\n      <td>https://s.yimg.com/ny/api/res/1.2/JvcWMjBdu3Dv...</td>\n    </tr>\n  </tbody>\n</table>\n</div>"
     },
     "metadata": {},
     "execution_count": 23
    }
   ],
   "source": [
    "df = pd.read_json(json.dumps(arts[\"articles\"]))\n",
    "df.head()"
   ]
  },
  {
   "cell_type": "code",
   "execution_count": 25,
   "metadata": {},
   "outputs": [],
   "source": [
    "df[\"source\"] = df[\"source\"].apply(lambda row: row[\"name\"])"
   ]
  },
  {
   "cell_type": "code",
   "execution_count": 26,
   "metadata": {},
   "outputs": [
    {
     "output_type": "execute_result",
     "data": {
      "text/plain": "                                 author  \\\n0                                  None   \n1                                  None   \n2                        Simply Wall St   \n3  newsfeedback@fool.com (Scott Levine)   \n4                 Zacks Equity Research   \n\n                                             content  \\\n0                                               None   \n1                                               None   \n2  Enphase Energy, Inc. (NASDAQ:ENPH), which is i...   \n3  Enphase Energy(NASDAQ:ENPH) shed new light on ...   \n4  Canadian Solar Inc. CSIQ reported first-quarte...   \n\n                                         description           publishedAt  \\\n0                                               None  2020-05-30T15:22:41Z   \n1  The latest 13F reporting period has come and g...  2020-06-02T12:44:36Z   \n2  Enphase Energy, Inc. (NASDAQ:ENPH), which is i...  2020-05-26T12:01:55Z   \n3  These charts provide a deeper insight into thi...  2020-06-03T11:44:00Z   \n4  Canadian Solar's (CSIQ) Q1 revenues of $825.6 ...  2020-05-29T11:20:11Z   \n\n                source                                              title  \\\n0        Seeking Alpha  Enphase Energy (ENPH) Investor Presentation - ...   \n1  Yahoo Entertainment  Hedge Funds Cashing Out Of Enphase Energy Inc ...   \n2  Yahoo Entertainment  What Is Enphase Energy, Inc.'s (NASDAQ:ENPH) S...   \n3          Motley Fool                         Enphase Energy in 3 Charts   \n4  Yahoo Entertainment  Canadian Solar (CSIQ) Q1 Earnings Top, Revenue...   \n\n                                                 url  \\\n0  https://seekingalpha.com/article/4351070-enpha...   \n1  https://news.yahoo.com/hedge-funds-cashing-enp...   \n2  https://finance.yahoo.com/news/enphase-energy-...   \n3  https://www.fool.com/investing/2020/06/03/enph...   \n4  https://finance.yahoo.com/news/canadian-solar-...   \n\n                                          urlToImage  \n0                                               None  \n1                                               None  \n2  https://s.yimg.com/ny/api/res/1.2/oBd4sm53w9gY...  \n3  https://g.foolcdn.com/editorial/images/575810/...  \n4  https://s.yimg.com/ny/api/res/1.2/JvcWMjBdu3Dv...  ",
      "text/html": "<div>\n<style scoped>\n    .dataframe tbody tr th:only-of-type {\n        vertical-align: middle;\n    }\n\n    .dataframe tbody tr th {\n        vertical-align: top;\n    }\n\n    .dataframe thead th {\n        text-align: right;\n    }\n</style>\n<table border=\"1\" class=\"dataframe\">\n  <thead>\n    <tr style=\"text-align: right;\">\n      <th></th>\n      <th>author</th>\n      <th>content</th>\n      <th>description</th>\n      <th>publishedAt</th>\n      <th>source</th>\n      <th>title</th>\n      <th>url</th>\n      <th>urlToImage</th>\n    </tr>\n  </thead>\n  <tbody>\n    <tr>\n      <th>0</th>\n      <td>None</td>\n      <td>None</td>\n      <td>None</td>\n      <td>2020-05-30T15:22:41Z</td>\n      <td>Seeking Alpha</td>\n      <td>Enphase Energy (ENPH) Investor Presentation - ...</td>\n      <td>https://seekingalpha.com/article/4351070-enpha...</td>\n      <td>None</td>\n    </tr>\n    <tr>\n      <th>1</th>\n      <td>None</td>\n      <td>None</td>\n      <td>The latest 13F reporting period has come and g...</td>\n      <td>2020-06-02T12:44:36Z</td>\n      <td>Yahoo Entertainment</td>\n      <td>Hedge Funds Cashing Out Of Enphase Energy Inc ...</td>\n      <td>https://news.yahoo.com/hedge-funds-cashing-enp...</td>\n      <td>None</td>\n    </tr>\n    <tr>\n      <th>2</th>\n      <td>Simply Wall St</td>\n      <td>Enphase Energy, Inc. (NASDAQ:ENPH), which is i...</td>\n      <td>Enphase Energy, Inc. (NASDAQ:ENPH), which is i...</td>\n      <td>2020-05-26T12:01:55Z</td>\n      <td>Yahoo Entertainment</td>\n      <td>What Is Enphase Energy, Inc.'s (NASDAQ:ENPH) S...</td>\n      <td>https://finance.yahoo.com/news/enphase-energy-...</td>\n      <td>https://s.yimg.com/ny/api/res/1.2/oBd4sm53w9gY...</td>\n    </tr>\n    <tr>\n      <th>3</th>\n      <td>newsfeedback@fool.com (Scott Levine)</td>\n      <td>Enphase Energy(NASDAQ:ENPH) shed new light on ...</td>\n      <td>These charts provide a deeper insight into thi...</td>\n      <td>2020-06-03T11:44:00Z</td>\n      <td>Motley Fool</td>\n      <td>Enphase Energy in 3 Charts</td>\n      <td>https://www.fool.com/investing/2020/06/03/enph...</td>\n      <td>https://g.foolcdn.com/editorial/images/575810/...</td>\n    </tr>\n    <tr>\n      <th>4</th>\n      <td>Zacks Equity Research</td>\n      <td>Canadian Solar Inc. CSIQ reported first-quarte...</td>\n      <td>Canadian Solar's (CSIQ) Q1 revenues of $825.6 ...</td>\n      <td>2020-05-29T11:20:11Z</td>\n      <td>Yahoo Entertainment</td>\n      <td>Canadian Solar (CSIQ) Q1 Earnings Top, Revenue...</td>\n      <td>https://finance.yahoo.com/news/canadian-solar-...</td>\n      <td>https://s.yimg.com/ny/api/res/1.2/JvcWMjBdu3Dv...</td>\n    </tr>\n  </tbody>\n</table>\n</div>"
     },
     "metadata": {},
     "execution_count": 26
    }
   ],
   "source": [
    "df.head()"
   ]
  },
  {
   "cell_type": "code",
   "execution_count": 28,
   "metadata": {},
   "outputs": [],
   "source": [
    "article = df[df[\"source\"]== \"Motley Fool\"]"
   ]
  },
  {
   "cell_type": "code",
   "execution_count": 40,
   "metadata": {},
   "outputs": [
    {
     "output_type": "execute_result",
     "data": {
      "text/plain": "\"Enphase Energy(NASDAQ:ENPH) shed new light on the possibilities of solar power in 2008, when it debuted the world's first microinverter system -- a unique approach to converting the energy collected … [+4033 chars]\""
     },
     "metadata": {},
     "execution_count": 40
    }
   ],
   "source": [
    "article.iloc[0][\"content\"]"
   ]
  },
  {
   "cell_type": "code",
   "execution_count": 20,
   "metadata": {},
   "outputs": [
    {
     "output_type": "execute_result",
     "data": {
      "text/plain": "dict"
     },
     "metadata": {},
     "execution_count": 20
    }
   ],
   "source": [
    "type(arts)"
   ]
  },
  {
   "cell_type": "code",
   "execution_count": 21,
   "metadata": {},
   "outputs": [
    {
     "output_type": "execute_result",
     "data": {
      "text/plain": "{'status': 'ok',\n 'totalResults': 20,\n 'articles': [{'source': {'id': None, 'name': 'Seeking Alpha'},\n   'author': None,\n   'title': 'Enphase Energy (ENPH) Investor Presentation - Slideshow',\n   'description': None,\n   'url': 'https://seekingalpha.com/article/4351070-enphase-energy-enph-investor-presentation-slideshow?source=feed_all_articles',\n   'urlToImage': None,\n   'publishedAt': '2020-05-30T15:22:41Z',\n   'content': None},\n  {'source': {'id': None, 'name': 'Yahoo Entertainment'},\n   'author': None,\n   'title': 'Hedge Funds Cashing Out Of Enphase Energy Inc (ENPH)',\n   'description': 'The latest 13F reporting period has come and gone, and Insider Monkey is again at the forefront when it comes to making use of this gold mine of data. Insider Monkey finished processing 821 13F filings submitted by hedge funds and prominent investors. These f…',\n   'url': 'https://news.yahoo.com/hedge-funds-cashing-enphase-energy-124436174.html',\n   'urlToImage': None,\n   'publishedAt': '2020-06-02T12:44:36Z',\n   'content': None},\n  {'source': {'id': None, 'name': 'Yahoo Entertainment'},\n   'author': 'Simply Wall St',\n   'title': \"What Is Enphase Energy, Inc.'s (NASDAQ:ENPH) Share Price Doing?\",\n   'description': 'Enphase Energy, Inc. (NASDAQ:ENPH), which is in the semiconductor business, and is based in United States, saw a...',\n   'url': 'https://finance.yahoo.com/news/enphase-energy-inc-nasdaq-enph-120155288.html',\n   'urlToImage': 'https://s.yimg.com/ny/api/res/1.2/oBd4sm53w9gY15Ogx_NI5w--/YXBwaWQ9aGlnaGxhbmRlcjt3PTEyODA7aD00NjMuMTE1NTc3ODg5NDQ3MjU-/https://s.yimg.com/uu/api/res/1.2/sTZ6Qq4btW.mgYZb8FZ1dA--~B/aD00MzI7dz0xMTk0O3NtPTE7YXBwaWQ9eXRhY2h5b24-/https://media.zenfs.com/en/simply_wall_st__316/c5201eeaa7905447e59995740351e3e5',\n   'publishedAt': '2020-05-26T12:01:55Z',\n   'content': 'Enphase Energy, Inc. (NASDAQ:ENPH), which is in the semiconductor business, and is based in United States, saw a significant share price rise of over 20% in the past couple of months on the NASDAQGM.… [+3972 chars]'},\n  {'source': {'id': None, 'name': 'Motley Fool'},\n   'author': 'newsfeedback@fool.com (Scott Levine)',\n   'title': 'Enphase Energy in 3 Charts',\n   'description': 'These charts provide a deeper insight into this solar power specialist.',\n   'url': 'https://www.fool.com/investing/2020/06/03/enphase-energy-in-3-charts.aspx',\n   'urlToImage': 'https://g.foolcdn.com/editorial/images/575810/solar-panels-and-chart.jpg',\n   'publishedAt': '2020-06-03T11:44:00Z',\n   'content': \"Enphase Energy(NASDAQ:ENPH) shed new light on the possibilities of solar power in 2008, when it debuted the world's first microinverter system -- a unique approach to converting the energy collected … [+4033 chars]\"},\n  {'source': {'id': None, 'name': 'Yahoo Entertainment'},\n   'author': 'Zacks Equity Research',\n   'title': 'Canadian Solar (CSIQ) Q1 Earnings Top, Revenues Rise Y/Y',\n   'description': \"Canadian Solar's (CSIQ) Q1 revenues of $825.6 million beat the Zacks Consensus Estimate by 3.9% and improve 70.3% year over year on solid shipments.\",\n   'url': 'https://finance.yahoo.com/news/canadian-solar-csiq-q1-earnings-112011512.html',\n   'urlToImage': 'https://s.yimg.com/ny/api/res/1.2/JvcWMjBdu3DvHUubtqOSQA--/YXBwaWQ9aGlnaGxhbmRlcjt3PTEyNzA7aD04MDA-/https://s.yimg.com/uu/api/res/1.2/OKramVQaStat5Wt00umFYQ--~B/aD00MDA7dz02MzU7c209MTthcHBpZD15dGFjaHlvbg--/https://media.zenfs.com/en-us/zacks.com/b722e658bf812e4a58e158c041871ac6',\n   'publishedAt': '2020-05-29T11:20:11Z',\n   'content': 'Canadian Solar Inc. CSIQ reported first-quarter 2020 adjusted earnings of $1.40 per share, which surpassed the Zacks Consensus Estimate of $1.16 by 20.7%.\\r\\nIncluding one-time items, GAAP earnings cam… [+4226 chars]'},\n  {'source': {'id': None, 'name': 'Seeking Alpha'},\n   'author': 'Simple Investment Ideas',\n   'title': 'The Energy Industry Is Undergoing Radical Change',\n   'description': 'New energy technologies are transforming the power industry. Distributed energy generation is threatening to upend the traditional utility business model. While',\n   'url': 'https://seekingalpha.com/article/4352125-energy-industry-is-undergoing-radical-change',\n   'urlToImage': 'https://static2.seekingalpha.com/uploads/2020/6/4/32586395-15913034561630049.png',\n   'publishedAt': '2020-06-05T06:19:58Z',\n   'content': 'The energy industry is transforming at a rapid rate. The emergence of increasingly cost-effective renewable technologies like solar and wind are completely changing the industry. Electric utilities a… [+5766 chars]'},\n  {'source': {'id': None, 'name': 'Forbes'},\n   'author': 'Olivier Garret, Contributor, Olivier Garret, Contributorhttps://www.forbes.com/sites/oliviergarret/',\n   'title': 'Why Solar Stocks Are Rallying Against All Odds',\n   'description': 'The news you read online can be just as destructive to your wealth. You probably would have sold all your stocks back in March if you listened to all the negative headlines! This is why I never watch the news.',\n   'url': 'https://www.forbes.com/sites/oliviergarret/2020/05/28/why-solar-stocks-are-rallying-against-all-odds/',\n   'urlToImage': 'https://thumbor.forbes.com/thumbor/fit-in/1200x0/filters%3Aformat%28jpg%29/https%3A%2F%2Fspecials-images.forbesimg.com%2Fimageserve%2F1189255791%2F0x0.jpg',\n   'publishedAt': '2020-05-28T13:00:00Z',\n   'content': 'WATERBURY, VERMONT, UNITED STATES - 2019/10/12: Solar farm. (Photo by John Greim/LightRocket via ... [+] Getty Images)\\r\\nLightRocket via Getty Images\\r\\nWatching the news is one of the most dangerous th… [+7015 chars]'},\n  {'source': {'id': None, 'name': 'Investorplace.com'},\n   'author': 'Louis Navellier',\n   'title': '7 Game-Changing Tech Stocks to Buy Now - InvestorPlace',\n   'description': 'Semiconductors, tasers and aerospace are just three industries that technology is changing. These tech stocks are plays on those trends.',\n   'url': 'https://investorplace.com/2020/06/7-game-changing-tech-stocks-buy-now/',\n   'urlToImage': 'https://investorplace.com/wp-content/uploads/2019/07/tech1600a.jpg',\n   'publishedAt': '2020-06-02T15:32:43Z',\n   'content': '[Editor’s note: “7 Game-Changing Tech Stocks to Buy Now” was previously published in March 2020. It has since been updated to include the most relevant information available.]\\r\\nTech stocks have had a… [+8409 chars]'},\n  {'source': {'id': None, 'name': 'Seeking Alpha'},\n   'author': 'Douglas Adams',\n   'title': 'Enphase:\\xa0A Run For The Sun',\n   'description': \"Enphase's fall into Covid-19 induced bear territory provides a stellar opportunity to buy into a premier player in the renewable energy space. Enphase put up ex\",\n   'url': 'https://seekingalpha.com/article/4352123-enphase-run-for-sun',\n   'urlToImage': 'https://static3.seekingalpha.com/images/marketing_images/green_energy/solar_panels_chiavari.jpeg',\n   'publishedAt': '2020-06-05T05:53:28Z',\n   'content': 'Renewable electricity costs have fallen dramatically over the past decade as technology, economies of scale and competition have all contributed handsomely in driving the cost of utility-grade photov… [+11592 chars]'},\n  {'source': {'id': None, 'name': 'Yahoo Entertainment'},\n   'author': 'Debasis Saha',\n   'title': 'Is Herbalife Nutrition Ltd. (HLF) A Good Stock To Buy?',\n   'description': 'In this article we will take a look at whether hedge funds think Herbalife Nutrition Ltd. (NYSE:HLF) is a good investment right now. We check hedge fund and billionaire investor sentiment before delving into hours of research. Hedge funds spend millions of do…',\n   'url': 'https://finance.yahoo.com/news/herbalife-nutrition-ltd-hlf-good-150616809.html',\n   'urlToImage': 'https://s.yimg.com/ny/api/res/1.2/TJss7QC_m3dVLdG4pe1J5Q--/YXBwaWQ9aGlnaGxhbmRlcjt3PTYwMDtoPTQ1MA--/https://s.yimg.com/uu/api/res/1.2/BE5V6Ufsb3sCeBvLZ7O22w--~B/aD0yMjU7dz0zMDA7c209MTthcHBpZD15dGFjaHlvbg--/https://media.zenfs.com/en-us/insidermonkey.com/444355b82e3f980e068772c58ca55f19',\n   'publishedAt': '2020-06-05T15:06:16Z',\n   'content': 'In this article we will take a look at whether hedge funds think Herbalife Nutrition Ltd. (NYSE:HLF) is a good investment right now. We check hedge fund and billionaire investor sentiment before delv… [+5873 chars]'},\n  {'source': {'id': None, 'name': 'Seeking Alpha'},\n   'author': 'Harrison Schwartz',\n   'title': 'TAN: Crash In Fossil Fuel Prices To Cause Another Solar Bear Market',\n   'description': 'Demand for solar panels appears to be generally correlated to U.S energy prices.With fossil fuel prices generally at multi-decade lows, electricity prices are expected to crash and cause a poor investment payback for solar panels.Most solar companies are eith…',\n   'url': 'https://seekingalpha.com/article/4347856-tan-crash-in-fossil-fuel-prices-to-cause-another-solar-bear-market',\n   'urlToImage': 'https://static3.seekingalpha.com/uploads/2020/5/14/49544530-15894831728536925.png',\n   'publishedAt': '2020-05-15T06:57:12Z',\n   'content': '(Pexels)\\r\\nDecades from now, I hope that solar power and other renewables are the dominant sources of energy. This is a hope that many have as it will be the only way to maintain our standard of livin… [+7066 chars]'},\n  {'source': {'id': None, 'name': '24/7 Wall St.'},\n   'author': 'Jon C. Ogg',\n   'title': 'Top Analyst Upgrades and Downgrades: Adobe, Baker Hughes, Best Buy, Cisco, CyberArk, Enphase, Grubhub, Jumia, SmileDirect, Under Armour, Wayfair and More',\n   'description': \"Thursday's top analyst upgrades and downgrades included Adobe, Baker Hughes, Best Buy, Cisco Systems, CyberArk Software, Enphase Energy, Grubhub, Jumia Technologies, SmileDirectClub, Under Armour and Wayfair.\",\n   'url': 'https://247wallst.com/investing/2020/05/14/top-analyst-upgrades-and-downgrades-adobe-baker-hughes-best-buy-cisco-cyberark-enphase-grubhub-jumia-smiledirect-under-armour-wayfair-and-more/',\n   'urlToImage': None,\n   'publishedAt': '2020-05-14T13:08:36Z',\n   'content': 'Last Updated: May 14, 2020 9:22 am\\r\\nStocks have been selling off this week, and the equity indexes were indicated down about 1% on Thursday. Investors are generally dealing with bad news on earnings … [+3564 chars]'},\n  {'source': {'id': None, 'name': 'Seeking Alpha'},\n   'author': 'SA Transcripts',\n   'title': 'Enphase Energy (ENPH) Investor Presentation - Slideshow',\n   'description': 'The following slide deck was published by Enphase Energy, Inc. in conjunction with this event.',\n   'url': 'https://seekingalpha.com/article/4351070-enphase-energy-enph-investor-presentation-slideshow',\n   'urlToImage': 'https://static3.seekingalpha.com/uploads/sa_presentations/524/56524/slides/1.jpg?1590851786',\n   'publishedAt': '2020-05-30T15:22:41Z',\n   'content': None},\n  {'source': {'id': None, 'name': 'Seeking Alpha'},\n   'author': 'Simple Investment Ideas',\n   'title': 'SolarEdge: Showing Strength Despite Coronavirus',\n   'description': \"SolarEdge's stock has almost completely rebounded from the initial impact of the coronavirus.SolarEdge continued to grow at a rapid rate in Q1.Enphase will likely remain SolarEdge's main competitive threat for the foreseeable future.\",\n   'url': 'https://seekingalpha.com/article/4349189-solaredge-showing-strength-despite-coronavirus',\n   'urlToImage': 'https://static.seekingalpha.com/uploads/2020/5/20/32586395-1590013746371332.png',\n   'publishedAt': '2020-05-21T07:39:53Z',\n   'content': 'SolarEdge (SEDG) was initially hard-hit by the coronavirus, experiencing a ~50% stock drop in the weeks that followed the outbreak. The company has since rebounded and is even starting to reach recor… [+5046 chars]'},\n  {'source': {'id': None, 'name': 'Seeking Alpha'},\n   'author': 'Mamta Mayani',\n   'title': 'ARVN, ONEM among premarket losers',\n   'description': '<ul><li>Comstock Resources (NYSE:<a href=\\'https://seekingalpha.com/symbol/CRK\\' title=\\'Comstock Resources, Inc.\\'>CRK</a>)\\xa0<font color=\"red\">-32%</font>\\xa0after <a href=\"https://seekingalpha.com/news/3574388-comstock-resources-prices-40m-share-offering-5-share\" t…',\n   'url': 'https://seekingalpha.com/news/3574492-arvn-onem-among-premarket-losers',\n   'urlToImage': 'https://static3.seekingalpha.com/assets/og_image_192-59bfd51c9fe6af025b2f9f96c807e46f8e2f06c5ae787b15bf1423e6c676d4db.png',\n   'publishedAt': '2020-05-14T13:18:57Z',\n   'content': 'Comstock Resources (NYSE:CRK)\\xa0-32%\\xa0after pricing 40M-share offering at $5/share.\\r\\nMacroGenics (NASDAQ:MGNX)\\xa0-19%\\xa0after release of abstracts on two clinical trials evaluating candidates MGD013 and MGC… [+1103 chars]'},\n  {'source': {'id': None, 'name': 'Yahoo Entertainment'},\n   'author': 'Coryanne Hicks, Contributing Writer, Kiplinger.com',\n   'title': '15 Best ESG Funds for Responsible Investors',\n   'description': \"So-called responsible investing can take many forms - as many forms as there are values to stand behind. Are you concerned about reducing fossil fuels? What about promoting women in the workplace? Whether you care about those issues or others, there's likely …\",\n   'url': 'https://finance.yahoo.com/news/15-best-esg-funds-responsible-201158100.html',\n   'urlToImage': 'https://s.yimg.com/ny/api/res/1.2/Wr9x2Lw8J26MgsL_3sBI8w--/YXBwaWQ9aGlnaGxhbmRlcjt3PTEyODA7aD04MDA-/https://s.yimg.com/uu/api/res/1.2/GmAo9PICZuIB23ysy1mUsQ--~B/aD04MDA7dz0xMjgwO3NtPTE7YXBwaWQ9eXRhY2h5b24-/https://media.zenfs.com/en-us/kiplinger.com/5f2e2f7ac44594cacee05381f43adf88',\n   'publishedAt': '2020-06-01T20:11:58Z',\n   'content': 'Getty Images\\r\\nSo-called responsible investing can take many forms - as many forms as there are values to stand behind. Are you concerned about reducing fossil fuels? What about promoting women in the… [+23284 chars]'},\n  {'source': {'id': None, 'name': 'Seeking Alpha'},\n   'author': 'Caterer Goodman Partners',\n   'title': '2020 Will Still Be A Growth Year For SolarEdge',\n   'description': \"Q1 earnings for SolarEdge Technologies with 59% yoy growth in an increasingly difficult economy shows the business strength.The stock price is off highs on modest Q2 revenue guidance of $305-335 million on COVID-19 concerns; that's below Q1 2020 but still aro…\",\n   'url': 'https://seekingalpha.com/article/4345862-2020-will-still-be-growth-year-for-solaredge',\n   'urlToImage': 'https://static2.seekingalpha.com/uploads/2020/5/6/47356576-15888132554192262.png',\n   'publishedAt': '2020-05-11T03:25:27Z',\n   'content': 'Introduction\\r\\nSolarEdge Technologies (SEDG) has just reported Q1 earnings and again reported record results, but provided modest guidance for Q2. We bought SEDG for our global growth stars strategy f… [+11343 chars]'},\n  {'source': {'id': None, 'name': 'Seeking Alpha'},\n   'author': 'Simple Investment Ideas',\n   'title': 'Enphase: New Industry Powerhouse',\n   'description': 'Enphase\\xa0reported another strong quarter.It has firmly established itself as a dominant presence in the growing MLPE space.While it is handling the coronavirus well, the company is expected to experience more disruptions in Q2.The success of Enphase is already…',\n   'url': 'https://seekingalpha.com/article/4346476-enphase-new-industry-powerhouse',\n   'urlToImage': 'https://static.seekingalpha.com/uploads/2020/5/11/saupload_e2a239b1c81a3da4c29915d55eb592d6.png',\n   'publishedAt': '2020-05-12T10:32:19Z',\n   'content': \"Enphase (ENPH) had a strong quarterly showing yet again. The company's outperformance is all the more impressive considering the negative impact of the coronavirus. Despite supply chain and logistics… [+5252 chars]\"},\n  {'source': {'id': None, 'name': 'Investopedia'},\n   'author': 'Casey Murphy',\n   'title': '3 Charts That Suggest Solar Stocks Are Headed Higher',\n   'description': 'Bullish chart patterns in the alternative energy sector suggest that prices are in the early stages of a long-term uptrend.',\n   'url': 'https://www.investopedia.com/3-charts-that-suggest-solar-stocks-are-headed-higher-4846171',\n   'urlToImage': 'https://www.investopedia.com/thmb/I7Lxicd7c4V4XPkYO4-qcnNZZ1k=/680x453/filters:fill(auto,1)/solar_panel_engineer_shutterstock_148095986-bad7b8a46e3449a78169ea10e9817367.jpg',\n   'publishedAt': '2020-05-27T16:02:58Z',\n   'content': 'Commodities in the energy sector have experienced extreme levels of volatility over the past several months. While many prices are near historic lows, which has dominated headlines, the alternative e… [+2638 chars]'},\n  {'source': {'id': None, 'name': 'Seeking Alpha'},\n   'author': 'TJ Roberts',\n   'title': 'Profound Medical In A Post-Pandemic World',\n   'description': \"TULSA-PRO, the most flexible prostate treatment on the market. First-Treatment Option = market share dominance in prostate treatments. Profound's marketing focu\",\n   'url': 'https://seekingalpha.com/article/4350304-profound-medical-in-post-pandemic-world',\n   'urlToImage': 'https://static1.seekingalpha.com/uploads/2020/5/22/38410276-15901711820711672.png',\n   'publishedAt': '2020-05-27T16:09:17Z',\n   'content': \"Source:Profound Medical - 2020\\r\\nWe're entering a post-pandemic economy. Social companies like Walt Disney (DIS), Carnival (CCL), American Airlines (AAL), and others, have witnessed decimation, but fo… [+11049 chars]\"}]}"
     },
     "metadata": {},
     "execution_count": 21
    }
   ],
   "source": [
    "arts"
   ]
  },
  {
   "cell_type": "code",
   "execution_count": 41,
   "metadata": {},
   "outputs": [
    {
     "output_type": "execute_result",
     "data": {
      "text/plain": "                                 author  \\\n0                                  None   \n1                                  None   \n2                        Simply Wall St   \n3  newsfeedback@fool.com (Scott Levine)   \n4                 Zacks Equity Research   \n\n                                             content  \\\n0                                               None   \n1                                               None   \n2  Enphase Energy, Inc. (NASDAQ:ENPH), which is i...   \n3  Enphase Energy(NASDAQ:ENPH) shed new light on ...   \n4  Canadian Solar Inc. CSIQ reported first-quarte...   \n\n                                         description           publishedAt  \\\n0                                               None  2020-05-30T15:22:41Z   \n1  The latest 13F reporting period has come and g...  2020-06-02T12:44:36Z   \n2  Enphase Energy, Inc. (NASDAQ:ENPH), which is i...  2020-05-26T12:01:55Z   \n3  These charts provide a deeper insight into thi...  2020-06-03T11:44:00Z   \n4  Canadian Solar's (CSIQ) Q1 revenues of $825.6 ...  2020-05-29T11:20:11Z   \n\n                source                                              title  \\\n0        Seeking Alpha  Enphase Energy (ENPH) Investor Presentation - ...   \n1  Yahoo Entertainment  Hedge Funds Cashing Out Of Enphase Energy Inc ...   \n2  Yahoo Entertainment  What Is Enphase Energy, Inc.'s (NASDAQ:ENPH) S...   \n3          Motley Fool                         Enphase Energy in 3 Charts   \n4  Yahoo Entertainment  Canadian Solar (CSIQ) Q1 Earnings Top, Revenue...   \n\n                                                 url  \\\n0  https://seekingalpha.com/article/4351070-enpha...   \n1  https://news.yahoo.com/hedge-funds-cashing-enp...   \n2  https://finance.yahoo.com/news/enphase-energy-...   \n3  https://www.fool.com/investing/2020/06/03/enph...   \n4  https://finance.yahoo.com/news/canadian-solar-...   \n\n                                          urlToImage  \n0                                               None  \n1                                               None  \n2  https://s.yimg.com/ny/api/res/1.2/oBd4sm53w9gY...  \n3  https://g.foolcdn.com/editorial/images/575810/...  \n4  https://s.yimg.com/ny/api/res/1.2/JvcWMjBdu3Dv...  ",
      "text/html": "<div>\n<style scoped>\n    .dataframe tbody tr th:only-of-type {\n        vertical-align: middle;\n    }\n\n    .dataframe tbody tr th {\n        vertical-align: top;\n    }\n\n    .dataframe thead th {\n        text-align: right;\n    }\n</style>\n<table border=\"1\" class=\"dataframe\">\n  <thead>\n    <tr style=\"text-align: right;\">\n      <th></th>\n      <th>author</th>\n      <th>content</th>\n      <th>description</th>\n      <th>publishedAt</th>\n      <th>source</th>\n      <th>title</th>\n      <th>url</th>\n      <th>urlToImage</th>\n    </tr>\n  </thead>\n  <tbody>\n    <tr>\n      <th>0</th>\n      <td>None</td>\n      <td>None</td>\n      <td>None</td>\n      <td>2020-05-30T15:22:41Z</td>\n      <td>Seeking Alpha</td>\n      <td>Enphase Energy (ENPH) Investor Presentation - ...</td>\n      <td>https://seekingalpha.com/article/4351070-enpha...</td>\n      <td>None</td>\n    </tr>\n    <tr>\n      <th>1</th>\n      <td>None</td>\n      <td>None</td>\n      <td>The latest 13F reporting period has come and g...</td>\n      <td>2020-06-02T12:44:36Z</td>\n      <td>Yahoo Entertainment</td>\n      <td>Hedge Funds Cashing Out Of Enphase Energy Inc ...</td>\n      <td>https://news.yahoo.com/hedge-funds-cashing-enp...</td>\n      <td>None</td>\n    </tr>\n    <tr>\n      <th>2</th>\n      <td>Simply Wall St</td>\n      <td>Enphase Energy, Inc. (NASDAQ:ENPH), which is i...</td>\n      <td>Enphase Energy, Inc. (NASDAQ:ENPH), which is i...</td>\n      <td>2020-05-26T12:01:55Z</td>\n      <td>Yahoo Entertainment</td>\n      <td>What Is Enphase Energy, Inc.'s (NASDAQ:ENPH) S...</td>\n      <td>https://finance.yahoo.com/news/enphase-energy-...</td>\n      <td>https://s.yimg.com/ny/api/res/1.2/oBd4sm53w9gY...</td>\n    </tr>\n    <tr>\n      <th>3</th>\n      <td>newsfeedback@fool.com (Scott Levine)</td>\n      <td>Enphase Energy(NASDAQ:ENPH) shed new light on ...</td>\n      <td>These charts provide a deeper insight into thi...</td>\n      <td>2020-06-03T11:44:00Z</td>\n      <td>Motley Fool</td>\n      <td>Enphase Energy in 3 Charts</td>\n      <td>https://www.fool.com/investing/2020/06/03/enph...</td>\n      <td>https://g.foolcdn.com/editorial/images/575810/...</td>\n    </tr>\n    <tr>\n      <th>4</th>\n      <td>Zacks Equity Research</td>\n      <td>Canadian Solar Inc. CSIQ reported first-quarte...</td>\n      <td>Canadian Solar's (CSIQ) Q1 revenues of $825.6 ...</td>\n      <td>2020-05-29T11:20:11Z</td>\n      <td>Yahoo Entertainment</td>\n      <td>Canadian Solar (CSIQ) Q1 Earnings Top, Revenue...</td>\n      <td>https://finance.yahoo.com/news/canadian-solar-...</td>\n      <td>https://s.yimg.com/ny/api/res/1.2/JvcWMjBdu3Dv...</td>\n    </tr>\n  </tbody>\n</table>\n</div>"
     },
     "metadata": {},
     "execution_count": 41
    }
   ],
   "source": [
    "df.head()"
   ]
  },
  {
   "cell_type": "code",
   "execution_count": 43,
   "metadata": {},
   "outputs": [
    {
     "output_type": "execute_result",
     "data": {
      "text/plain": "                     author  \\\n0                      None   \n5   Simple Investment Ideas   \n8             Douglas Adams   \n10        Harrison Schwartz   \n12           SA Transcripts   \n\n                                              content  \\\n0                                                None   \n5   The energy industry is transforming at a rapid...   \n8   Renewable electricity costs have fallen dramat...   \n10  (Pexels)\\r\\nDecades from now, I hope that sola...   \n12                                               None   \n\n                                          description           publishedAt  \\\n0                                                None  2020-05-30T15:22:41Z   \n5   New energy technologies are transforming the p...  2020-06-05T06:19:58Z   \n8   Enphase's fall into Covid-19 induced bear terr...  2020-06-05T05:53:28Z   \n10  Demand for solar panels appears to be generall...  2020-05-15T06:57:12Z   \n12  The following slide deck was published by Enph...  2020-05-30T15:22:41Z   \n\n           source                                              title  \\\n0   Seeking Alpha  Enphase Energy (ENPH) Investor Presentation - ...   \n5   Seeking Alpha   The Energy Industry Is Undergoing Radical Change   \n8   Seeking Alpha                         Enphase: A Run For The Sun   \n10  Seeking Alpha  TAN: Crash In Fossil Fuel Prices To Cause Anot...   \n12  Seeking Alpha  Enphase Energy (ENPH) Investor Presentation - ...   \n\n                                                  url  \\\n0   https://seekingalpha.com/article/4351070-enpha...   \n5   https://seekingalpha.com/article/4352125-energ...   \n8   https://seekingalpha.com/article/4352123-enpha...   \n10  https://seekingalpha.com/article/4347856-tan-c...   \n12  https://seekingalpha.com/article/4351070-enpha...   \n\n                                           urlToImage  \n0                                                None  \n5   https://static2.seekingalpha.com/uploads/2020/...  \n8   https://static3.seekingalpha.com/images/market...  \n10  https://static3.seekingalpha.com/uploads/2020/...  \n12  https://static3.seekingalpha.com/uploads/sa_pr...  ",
      "text/html": "<div>\n<style scoped>\n    .dataframe tbody tr th:only-of-type {\n        vertical-align: middle;\n    }\n\n    .dataframe tbody tr th {\n        vertical-align: top;\n    }\n\n    .dataframe thead th {\n        text-align: right;\n    }\n</style>\n<table border=\"1\" class=\"dataframe\">\n  <thead>\n    <tr style=\"text-align: right;\">\n      <th></th>\n      <th>author</th>\n      <th>content</th>\n      <th>description</th>\n      <th>publishedAt</th>\n      <th>source</th>\n      <th>title</th>\n      <th>url</th>\n      <th>urlToImage</th>\n    </tr>\n  </thead>\n  <tbody>\n    <tr>\n      <th>0</th>\n      <td>None</td>\n      <td>None</td>\n      <td>None</td>\n      <td>2020-05-30T15:22:41Z</td>\n      <td>Seeking Alpha</td>\n      <td>Enphase Energy (ENPH) Investor Presentation - ...</td>\n      <td>https://seekingalpha.com/article/4351070-enpha...</td>\n      <td>None</td>\n    </tr>\n    <tr>\n      <th>5</th>\n      <td>Simple Investment Ideas</td>\n      <td>The energy industry is transforming at a rapid...</td>\n      <td>New energy technologies are transforming the p...</td>\n      <td>2020-06-05T06:19:58Z</td>\n      <td>Seeking Alpha</td>\n      <td>The Energy Industry Is Undergoing Radical Change</td>\n      <td>https://seekingalpha.com/article/4352125-energ...</td>\n      <td>https://static2.seekingalpha.com/uploads/2020/...</td>\n    </tr>\n    <tr>\n      <th>8</th>\n      <td>Douglas Adams</td>\n      <td>Renewable electricity costs have fallen dramat...</td>\n      <td>Enphase's fall into Covid-19 induced bear terr...</td>\n      <td>2020-06-05T05:53:28Z</td>\n      <td>Seeking Alpha</td>\n      <td>Enphase: A Run For The Sun</td>\n      <td>https://seekingalpha.com/article/4352123-enpha...</td>\n      <td>https://static3.seekingalpha.com/images/market...</td>\n    </tr>\n    <tr>\n      <th>10</th>\n      <td>Harrison Schwartz</td>\n      <td>(Pexels)\\r\\nDecades from now, I hope that sola...</td>\n      <td>Demand for solar panels appears to be generall...</td>\n      <td>2020-05-15T06:57:12Z</td>\n      <td>Seeking Alpha</td>\n      <td>TAN: Crash In Fossil Fuel Prices To Cause Anot...</td>\n      <td>https://seekingalpha.com/article/4347856-tan-c...</td>\n      <td>https://static3.seekingalpha.com/uploads/2020/...</td>\n    </tr>\n    <tr>\n      <th>12</th>\n      <td>SA Transcripts</td>\n      <td>None</td>\n      <td>The following slide deck was published by Enph...</td>\n      <td>2020-05-30T15:22:41Z</td>\n      <td>Seeking Alpha</td>\n      <td>Enphase Energy (ENPH) Investor Presentation - ...</td>\n      <td>https://seekingalpha.com/article/4351070-enpha...</td>\n      <td>https://static3.seekingalpha.com/uploads/sa_pr...</td>\n    </tr>\n  </tbody>\n</table>\n</div>"
     },
     "metadata": {},
     "execution_count": 43
    }
   ],
   "source": [
    "seeking = df[df[\"source\"]==\"Seeking Alpha\"]\n",
    "seeking.head()"
   ]
  },
  {
   "cell_type": "code",
   "execution_count": 45,
   "metadata": {},
   "outputs": [
    {
     "output_type": "execute_result",
     "data": {
      "text/plain": "array(['https://seekingalpha.com/article/4351070-enphase-energy-enph-investor-presentation-slideshow?source=feed_all_articles',\n       'https://seekingalpha.com/article/4352125-energy-industry-is-undergoing-radical-change',\n       'https://seekingalpha.com/article/4352123-enphase-run-for-sun',\n       'https://seekingalpha.com/article/4347856-tan-crash-in-fossil-fuel-prices-to-cause-another-solar-bear-market',\n       'https://seekingalpha.com/article/4351070-enphase-energy-enph-investor-presentation-slideshow',\n       'https://seekingalpha.com/article/4349189-solaredge-showing-strength-despite-coronavirus',\n       'https://seekingalpha.com/news/3574492-arvn-onem-among-premarket-losers',\n       'https://seekingalpha.com/article/4345862-2020-will-still-be-growth-year-for-solaredge',\n       'https://seekingalpha.com/article/4346476-enphase-new-industry-powerhouse',\n       'https://seekingalpha.com/article/4350304-profound-medical-in-post-pandemic-world'],\n      dtype=object)"
     },
     "metadata": {},
     "execution_count": 45
    }
   ],
   "source": [
    "seeking[\"url\"].values"
   ]
  },
  {
   "cell_type": "code",
   "execution_count": 46,
   "metadata": {},
   "outputs": [],
   "source": [
    "import requests"
   ]
  },
  {
   "cell_type": "code",
   "execution_count": 71,
   "metadata": {},
   "outputs": [],
   "source": [
    "from selenium import webdriver\n",
    "driver = webdriver.Chrome()\n",
    "import time"
   ]
  },
  {
   "cell_type": "code",
   "execution_count": 72,
   "metadata": {
    "tags": [
     "outputPrepend"
    ]
   },
   "outputs": [
    {
     "output_type": "stream",
     "name": "stdout",
     "text": "), and Duke Energy (DUK) are pouring billions of dollars into renewables. These companies are well-positioned to take advantage of renewables' explosive growth. Energy companies that are overly reliant on traditional energy sources like coal could find themselves at a disadvantage moving forward. In fact, some even predict that a utility death spiral will occur for these companies. The emergence of cost-competitive renewables like solar and wind are changing the dynamic of the energy industry.  Source: iStock Renewables like solar and wind are opening up entirely new possibilities of how energy is generated. Distributed energy, for instance, has become increasingly viable with the advancements being made in solar and storage. Tesla (TSLA) is almost single-handedly pushing down the cost of lithium battery storage at a stunning rate. This, in combination with the rapid advancements being made in solar, is making distributed energy increasingly cost-competitive with centralized energy. Solar PV is arguably the biggest threat to displace traditional fossil fuels moving forward. Despite solar's exponential growth, solar companies have had an extremely hard time profiting from this growth. Even leading US solar companies like SunPower Corp. (SPWR) and First Solar (FSLR) have struggled despite solar's growth. The consistent steep price declines experienced by solar have made it incredibly hard for solar companies to maintain healthy margins. However, some solar companies like SolarEdge (SEDG) and Enphase (ENPH) have managed to successfully capitalize on solar's growth by focusing on solar components rather than solar modules. SolarEdge and Enphase are now some of the most valuable solar companies in the world despite not focusing on module manufacturing. Solar will likely pose an even greater threat to traditional utilities as the industry continues to mature. In fact, solar technology is allowing for new forms of energy generation that could be devastating for the utility industry. Solar and wind are starting to compete with even the cheapest fossil fuels on the cost front.  Source: IRENA The growth of distributed energy is bad news for traditional electric utilities, as most of these utilities rely on the centralized energy generation model. The distributed energy trend is so threatening to utilities that many believe the growth of distributed energy will cause a utility death spiral. While many are skeptical of such a death spiral, it is definitely a very real possibility. Essentially, as more customers leave utilities for distributed technologies like solar plus storage, utilities will be forced to raise prices for the remaining customers, as these utilities have many fixed costs. This price raise will subsequently incentivize even more customers to defect from the grid, thus causing a vicious cycle or death spiral. Utilities are well aware of the potential threat of a death spiral. In fact, a poll indicated that 71% of utilities believe that a death spiral could be a very real possibility. The advancements being made in energy storage technology is only making a utility death spiral scenario even more plausible. Cost-effective energy storage will enable solar users to essentially become grid-independent. The explosive growth in the popularity of electric vehicles will only accelerate energy storage innovation. In fact, Tesla has almost single-handedly revolutionized lithium battery technology in recent years. Many major utilities can already sense the change coming. Increasingly strict environmental regulations and rapid technological changes in renewables are already starting to make a big impact on the energy industry. Major energy companies like Southern Company (SO) and AES are already pouring vast amounts of resources into renewables. Whether or not major utilities will be successful in transitioning towards renewables is still highly questionable. It will be incredibly hard to transform an aging centralized grid energy infrastructure in a relatively short period of time. While some nimble utilities could successfully transform their business models, it is hard to see the vast majority of the utility industry adapting to the new energy landscape. It will be incredibly hard for utilities to upgrade a huge and aging grid infrastructure.  Source: NREL Solar and wind are rapidly increasing their presence in the energy industry. In fact, solar has been on a consistent exponential growth trend for at least a few decades now. What's more, this growth does not seem to be slowing down despite the fact that solar is no longer a niche industry. In fact, solar and wind are expected to account for the majority of new energy generation capacity in 2020. Aside from the more nimble and innovative companies like AES Corp. and Duke Energy, electric utilities will likely struggle moving forward. Investors would be far better off looking into solar companies like SolarEdge and Enphase. The advancements being made in solar PV and energy storage are too large to ignore at this point. Disclosure: I/we have no positions in any stocks mentioned, and no plans to initiate any positions within the next 72 hours. I wrote this article myself, and it expresses my own opinions. I am not receiving compensation for it (other than from Seeking Alpha). I have no business relationship with any company whose stock is mentioned in this article.                                        \", \"Enphase's fall into Covid-19 induced bear territory provides a stellar opportunity to buy into a premier player in the renewable energy space. Enphase put up extraordinary YOY 1st quarter numbers often dreamed about by investors but rarely achieved in real time. Beyond Covid-19 remains the proving ground for the company and the planets of growth appear well-aligned. Renewable electricity costs have fallen dramatically over the past decade as technology, economies of scale and competition have all contributed handsomely in driving the cost of utility-grade photovoltaics (PV) prices down by 82% over the past decade. The per kilowatt hour costs have fallen over the period to a global average of $0.068 through the end of 2019. Utility-grade solar prices are expected to reach $0.039/kWh by 2021, falling well below the costs of comparable coal-fired plants. Falling renewable energy prices allowed the breach of an important threshold through the end of 2019: Renewable energy consumption in the US surpassed that of coal for the first time in over 130 years. Replacing a 500 GW coal-fired utility with a solar and wind equivalency would produce cost savings in the neighborhood of $23 billion annually while reducing emissions by about 1.8 gigatons of CO2, or about 5% of global CO2 emissions for 2019. The multiplier impact of the investment would come in at about $940 billion, or about 1% of global GDP. Last month, the California Energy Commission began requiring most new residential and commercial buildings be outfitted with solar panels for structures built after January 1, 2020. California’s new law is the first of its kind in the nation and a clear boon for the solar industry. Critics cite the outsized mean price of California homes with a nation-leading range from $1.2 million in San Francisco, $630K in Los Angeles and $572K in San Diego, the state’s three top markets. The new regulation is expected to add about $10K to the cost of new construction, offset by an estimated $19,000 in projected energy and maintenance savings over a 30-year period. Clearly hanging ten on this wave of growth, California-based Enphase Energy (ENPH) (green-red line) is trading at a significant price performance premium for the year over rivals Israel-based SolarEdge Technologies (SEDG) (orange line) and Wisconsin-based Generac Holdings (GNRC) (purple line) through Friday’s market close (May 29). Enphase’s price performance premium over the S&P 500 benchmark (black dotted line) is even more pronounced (see Figure 1, below). Figure 1: Enphase Energy, SolarEdge Technologies and Generac Holdings against the S&P 500  Much of Enphase’s stock performance centers on its microinverter business, which converts DC power at the solar panel to AC current used in the home, and its software-defined, cloud-based platform that monitors the generation, distribution, efficiency and storage of the energy produced. The company’s purchase of SunPower’s (SPWR) inverter business in August of 2018 saw Enphase’s microinverter sales soar through the end of the 1st quarter 2020 to 2.01 million sold with a total DC capacity of around 643 MW. The gross shipment is up 106% YOY. Much of FY2019 was spent ramping up microinverter production capacity to meet the increased demand. Enphase gained exclusive rights to supply SunPower clients with microinverters as part of the sale package for a period of five years, with options of renewal. Interestingly, Enphase does not actively use the microinverter technology acquired by SunPower, using its proprietary IQ family of microinverters combined with its software diagnostics on a cloud-based platform. Revenues jumped from $100.2 million to $205.54 million through the end of 1st quarter, a 105% jump YOY. Gross margins beat an equally stellar path, up 142% over the same period. Earnings per share went from $0.02 to $0.50. That’s EPS growth of 2,400% in a year’s time - a pretty rare accomplishment as markets go. Doesn’t leave much to the imagination as to why the stock currently trades at about 33 times earnings. Competition abounds and the threshold to entry into the space is not outwardly steep. SolarEdge employs a central single-phase inverter to its solar array installations in distinction with Enphase’s microinverters that attach to each panel of the array. Optimizers maximize energy generation throughout the system while control, monitoring and diagnostics are also cloud-based. SolarEdge has upped the ante in the storage space through the purchase of the South Korean company Kokam in October 2018. The company provides lithium-iron phosphate cells and storage solutions. In April of this year, SolarEdge took out a contract to purchase over 56,000 meters of land to build a factory to produce lithium-ion battery packs. SolarEdge’s revenues are up 52% with profit margins following suit at 50% gains over the period. Earnings per share rose just short of 8%. The stock trades at about 17 times earnings. Generac Holdings is better known for commercial, residential, and industrial generators. Further, the company’s foray into solar applications is too recent to register balance sheet impact as yet. In March of 2019, the company purchased British Columbia-based Neurio Technology, which specializes in energy metering and analytics, to optimize energy use in both commercial and residential applications. A second purchase during the month brought Maine-based Pika Energy into the equation. Pika Energy, which designs and manufactures battery storage technologies to capture and store, manage and monitor solar-generated electricity for home and commercial use, completed the circle. Overall revenues since these two key purchases were up almost 9% with gross margins up just over 10% for the period. Earnings per share are up just under 14%. The stock trades at about 15 times earnings. Enphase’s 8th generation IQ microinverter and the company’s Encharge battery storage system will have a Chinese-manufactured lithium-iron phosphate battery with a storage capacity of 1.7 kWh capacity. Both are slated for release later in the year. Figure 2: Enphase against the S&P 500  Covid-19 is the standout headwind to the growth plans certainly through the end of the 2nd quarter and hopefully not beyond. Unsurprisingly, the demand for solar installations in late March/early April dropped off a cliff. A momentum pullback on the company’s share price was a foregone conclusion. Taking the bull by its horns, Enphase offered up 2nd quarter guidance in its May earnings call. The midpoint of the guidance came to $122.5 million - well under the consensus estimate of $143 million. The guidance implies a 30%+ drop in microinverter shipments QOQ, with improvement being staged in the 3rd quarter (barring a second Covid-19 wave) when revenue is expected to recover to some semblance of pre-pandemic levels. The latter part of the year will also see the delayed launch of its IQ8 generation of microinverters and the Encharge storage system. There were no announced supply chain disruptions. Enphase’s Mexican manufacturing facility continues to be considered an essential business by national and regional authorities and experienced no curtailment in work. Manufacturing capacity in China was ramped up after the Chinese New Year. Of course, the guidance drew a rather swift market reaction as investors whacked about 17% from the stock price in three consecutive trading sessions through the 22nd of May (yellow ellipse Figure 1, above). Another 7% drop through the market close on the 4th of June places Enphase in bear territory (see yellow box in Figure 2, above). Enphase was riding high in the first two weeks in May with the stock squeaking into overbought territory on two separate occasions during the period (see bottom frame of Figure 2, above). By the latter stages of the month and into the early days of June, the impact of Covid-19 had taken its toll on new orders. Enphase’s 50-day moving average is now at 46.34 while its 200-day average is at 33.67. The stock closed at $51.50 through Thursday’s (June 4) market close, down 24% from its May 19 high of $67.04. For its part, SolarEdge was more circumspect in its 2nd quarter projections. The company settled with projecting lower revenues, gross margins, research/development costs, sales/marketing and administrative expenses for the 2nd quarter. The cost of revenues is expected to rise for the 2nd quarter, statements tucked deep in the weeds of the company’s 10Q SEC filing for the 1st quarter. Generac Holdings (as did most companies) simply refrained from providing 2nd quarter guidance. Beyond Covid-19, Enphase envisions growth not only from its exclusive SunPower service contract and the 80,000 new homes scheduled for construction in California under the new California Energy Commission guidelines for the coming year. The company announced several new alliances in March and April that should add greater national and international revenue reach to the company’s bottom line. A full 131% of 1st quarter revenue gain came from domestic sources while international revenue came to just under 16% for the period. International revenue made up about 13% of total revenue in the 1st quarter, with plenty of room for further growth. On the national front, in mid-March the company announced an alliance with Amicus Solar Cooperative. Amicus Solar is a Certified B Corporation and public benefit corporation. Its members install solar arrays in all 50-states, the District of Columbia, Puerto Rico, and Canada. Internationally, Enphase announced a new alliance structure announced with Rexel Australia, a multichannel solar distributor with reach throughout the vast Asian market. Across the Pond, an alliance was announced with Courant Naturel, a residential solar installer based in Soual, France. The company already has single-digit market penetration in the Netherlands and currently is expanding its marketing distributor partnership agreements in Germany and Spain. Wary and mindful of the Covid-19 hit on its stock price, Enphase announced a stock repurchase program worth $200 million. While a questionable use of resources in the eyes of most economists, with $593.8 million in cash and equivalents on the balance sheet through the end of the 1st quarter, the buyback will likely increase shareholder value over the short term, which will provide time for more organic revenue streams to revitalize the balance sheet over second half of the year and beyond. A 24% decline in the company’s share price since the 19th of May comes as a convenient plus for the program. For decades, the emphasis on power generation for commercial, residential, and industrial use has been on making sure there always was enough power to meet peak demand levels at any moment of the day or night throughout the year. With the growing importance of renewable energy to the grid and the oversupply of the grid under peak sun and wind conditions, the storage of excess supply has become the new and highly competitive frontier for grid management. From an investment standpoint, scale matters. While the cost of battery storage capacity continues to fall, the necessary revenue streams from future battery storage capacity continue to be difficult for most investors to commercially interpret. Investment in the technology to make storage capacity a viable long-term investment program with quantifiable income streams attached is being pulled forward with the greater reliance of the grid on renewable energy sourcing. All three companies are clearly gearing up to compete in the storage space. Enphase and SolarEdge will continue in the role of the duopoly in the space for the intermediate term with Generac and certainly others continuing to nip at the heels of these leaders in the years to come. The path to growth in the space, Covid-19 withstanding, remains bright. Disclosure: I am/we are long ENPH, SEDG. I wrote this article myself, and it expresses my own opinions. I am not receiving compensation for it (other than from Seeking Alpha). I have no business relationship with any company whose stock is mentioned in this article.                                       \", 'Demand for solar panels appears to be generally correlated to U.S energy prices. With fossil fuel prices generally at multi-decade lows, electricity prices are expected to crash and cause a poor investment payback for solar panels.', 'The following slide deck was published by Enphase Energy, Inc. in conjunction with this event.  ', \"SolarEdge's stock has almost completely rebounded from the initial impact of the coronavirus. SolarEdge continued to grow at a rapid rate in Q1.\", 'Comstock Resources (NYSE:CRK) -32% after pricing 40M-share offering at $5/share. MacroGenics (NASDAQ:MGNX) -19% after release of abstracts on two clinical trials evaluating candidates MGD013 and MGC018. Arvinas (NASDAQ:ARVN) -18% on early-stage ARV-110 data. Whiting Petroleum (NYSE:WLL) -16%. Remark Holdings (NASDAQ:MARK) -17%. Citius Pharmaceuticals (NASDAQ:CTXR) -14% on $7.5M registered direct offering. Chesapeake Energy (NYSE:CHK) -13%. 1Life Healthcare (NASDAQ:ONEM) -11% on Q1 earnings. VectoIQ Acquisition (NASDAQ:VTIQ) -11%. SIFCO Industries (NYSEMKT:SIF) -10%. Vector Group (NYSE:VGR) -8% after share offering. Waitr Holdings (NASDAQ:WTRH) -8%. SmileDirectClub (NASDAQ:SDC) -7% on Q1 earnings. Genius Brands International (NASDAQ:GNUS) -8%. Micro Focus International (NYSE:MFGP) -7%. Tenneco (NYSE:TEN) -7%. Tilray (NASDAQ:TLRY) -6%. Enphase Energy (NASDAQ:ENPH) -6%. Aegon (NYSE:AEG) -6%. Hertz Global Holdings (NYSE:HTZ) -5%. United Airlines Holdings (NASDAQ:UAL) -6%. Jumia Technologies (NYSE:JMIA) -6% after analyst downgrade. Creative Realities (NASDAQ:CREX) -6%. Sibanye Stillwater (NYSE:SBSW) -5%. Carnival (NYSE:CUK) -5% after announcing additional steps to strengthen liquidity. ToughBuilt Industries (NASDAQ:TBLT) -5%. Lloyds Banking Group (NYSE:LYG) -5%. See all stocks on the move » ', \"Q1 earnings for SolarEdge Technologies with 59% yoy growth in an increasingly difficult economy shows the business strength. The stock price is off highs on modest Q2 revenue guidance of $305-335 million on COVID-19 concerns; that's below Q1 2020 but still around Q2 2019 levels.\", 'Enphase reported another strong quarter. It has firmly established itself as a dominant presence in the growing MLPE space.', 'TULSA-PRO, the most flexible prostate treatment on the market. First-Treatment Option = market share dominance in prostate treatments.']\n"
    }
   ],
   "source": [
    "def getArticle(url):\n",
    "    driver.get(url)\n",
    "    p = driver.find_elements_by_tag_name(\"p\")\n",
    "    text = [item.text for item in p]\n",
    "    return \" \".join(text)\n",
    "\n",
    "def scrapeWait():\n",
    "    articles = []\n",
    "\n",
    "    for url in seeking[\"url\"].values:\n",
    "        articles.append(getArticle(url))\n",
    "\n",
    "        time.sleep(5)\n",
    "    \n",
    "    return articles\n",
    "\n",
    "article_var = scrapeWait()\n",
    "print(article_var)"
   ]
  },
  {
   "cell_type": "code",
   "execution_count": 78,
   "metadata": {
    "tags": [
     "outputPrepend"
    ]
   },
   "outputs": [
    {
     "output_type": "stream",
     "name": "stderr",
     "text": "/home/camkirk/anaconda3/envs/zip/lib/python3.6/site-packages/ipykernel_launcher.py:1: SettingWithCopyWarning: \nA value is trying to be set on a copy of a slice from a DataFrame.\nTry using .loc[row_indexer,col_indexer] = value instead\n\nSee the caveats in the documentation: http://pandas.pydata.org/pandas-docs/stable/indexing.html#indexing-view-versus-copy\n  \"\"\"Entry point for launching an IPython kernel.\n"
    }
   ],
   "source": [
    "seeking[\"full_content\"] = article_var"
   ]
  },
  {
   "cell_type": "code",
   "execution_count": 80,
   "metadata": {},
   "outputs": [
    {
     "output_type": "execute_result",
     "data": {
      "text/plain": "                                         full_content  \\\n0   The following slide deck was published by Enph...   \n5   New energy technologies are transforming the p...   \n8   Enphase's fall into Covid-19 induced bear terr...   \n10  Demand for solar panels appears to be generall...   \n12  The following slide deck was published by Enph...   \n13  SolarEdge's stock has almost completely reboun...   \n14  Comstock Resources (NYSE:CRK) -32% after prici...   \n16  Q1 earnings for SolarEdge Technologies with 59...   \n17  Enphase reported another strong quarter. It ha...   \n19  TULSA-PRO, the most flexible prostate treatmen...   \n\n                                                title           publishedAt  \n0   Enphase Energy (ENPH) Investor Presentation - ...  2020-05-30T15:22:41Z  \n5    The Energy Industry Is Undergoing Radical Change  2020-06-05T06:19:58Z  \n8                          Enphase: A Run For The Sun  2020-06-05T05:53:28Z  \n10  TAN: Crash In Fossil Fuel Prices To Cause Anot...  2020-05-15T06:57:12Z  \n12  Enphase Energy (ENPH) Investor Presentation - ...  2020-05-30T15:22:41Z  \n13    SolarEdge: Showing Strength Despite Coronavirus  2020-05-21T07:39:53Z  \n14                  ARVN, ONEM among premarket losers  2020-05-14T13:18:57Z  \n16     2020 Will Still Be A Growth Year For SolarEdge  2020-05-11T03:25:27Z  \n17                   Enphase: New Industry Powerhouse  2020-05-12T10:32:19Z  \n19          Profound Medical In A Post-Pandemic World  2020-05-27T16:09:17Z  ",
      "text/html": "<div>\n<style scoped>\n    .dataframe tbody tr th:only-of-type {\n        vertical-align: middle;\n    }\n\n    .dataframe tbody tr th {\n        vertical-align: top;\n    }\n\n    .dataframe thead th {\n        text-align: right;\n    }\n</style>\n<table border=\"1\" class=\"dataframe\">\n  <thead>\n    <tr style=\"text-align: right;\">\n      <th></th>\n      <th>full_content</th>\n      <th>title</th>\n      <th>publishedAt</th>\n    </tr>\n  </thead>\n  <tbody>\n    <tr>\n      <th>0</th>\n      <td>The following slide deck was published by Enph...</td>\n      <td>Enphase Energy (ENPH) Investor Presentation - ...</td>\n      <td>2020-05-30T15:22:41Z</td>\n    </tr>\n    <tr>\n      <th>5</th>\n      <td>New energy technologies are transforming the p...</td>\n      <td>The Energy Industry Is Undergoing Radical Change</td>\n      <td>2020-06-05T06:19:58Z</td>\n    </tr>\n    <tr>\n      <th>8</th>\n      <td>Enphase's fall into Covid-19 induced bear terr...</td>\n      <td>Enphase: A Run For The Sun</td>\n      <td>2020-06-05T05:53:28Z</td>\n    </tr>\n    <tr>\n      <th>10</th>\n      <td>Demand for solar panels appears to be generall...</td>\n      <td>TAN: Crash In Fossil Fuel Prices To Cause Anot...</td>\n      <td>2020-05-15T06:57:12Z</td>\n    </tr>\n    <tr>\n      <th>12</th>\n      <td>The following slide deck was published by Enph...</td>\n      <td>Enphase Energy (ENPH) Investor Presentation - ...</td>\n      <td>2020-05-30T15:22:41Z</td>\n    </tr>\n    <tr>\n      <th>13</th>\n      <td>SolarEdge's stock has almost completely reboun...</td>\n      <td>SolarEdge: Showing Strength Despite Coronavirus</td>\n      <td>2020-05-21T07:39:53Z</td>\n    </tr>\n    <tr>\n      <th>14</th>\n      <td>Comstock Resources (NYSE:CRK) -32% after prici...</td>\n      <td>ARVN, ONEM among premarket losers</td>\n      <td>2020-05-14T13:18:57Z</td>\n    </tr>\n    <tr>\n      <th>16</th>\n      <td>Q1 earnings for SolarEdge Technologies with 59...</td>\n      <td>2020 Will Still Be A Growth Year For SolarEdge</td>\n      <td>2020-05-11T03:25:27Z</td>\n    </tr>\n    <tr>\n      <th>17</th>\n      <td>Enphase reported another strong quarter. It ha...</td>\n      <td>Enphase: New Industry Powerhouse</td>\n      <td>2020-05-12T10:32:19Z</td>\n    </tr>\n    <tr>\n      <th>19</th>\n      <td>TULSA-PRO, the most flexible prostate treatmen...</td>\n      <td>Profound Medical In A Post-Pandemic World</td>\n      <td>2020-05-27T16:09:17Z</td>\n    </tr>\n  </tbody>\n</table>\n</div>"
     },
     "metadata": {},
     "execution_count": 80
    }
   ],
   "source": [
    "seeking[[\"full_content\",\"title\",\"publishedAt\"]]"
   ]
  },
  {
   "cell_type": "code",
   "execution_count": null,
   "metadata": {},
   "outputs": [],
   "source": []
  }
 ],
 "metadata": {
  "language_info": {
   "codemirror_mode": {
    "name": "ipython",
    "version": 3
   },
   "file_extension": ".py",
   "mimetype": "text/x-python",
   "name": "python",
   "nbconvert_exporter": "python",
   "pygments_lexer": "ipython3",
   "version": "3.6.9-final"
  },
  "orig_nbformat": 2,
  "kernelspec": {
   "name": "python36964bitbaseconda0d17fd5a27e840038086345058d6e358",
   "display_name": "Python 3.6.9 64-bit ('base': conda)"
  }
 },
 "nbformat": 4,
 "nbformat_minor": 2
}